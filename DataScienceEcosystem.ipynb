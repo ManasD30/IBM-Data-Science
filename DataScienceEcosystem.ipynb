{
 "cells": [
  {
   "cell_type": "markdown",
   "id": "76d5f8a0-40ad-4aec-8dd1-80d1e86e0aff",
   "metadata": {},
   "source": [
    "# Data Science Tools and Ecosystem"
   ]
  },
  {
   "cell_type": "markdown",
   "id": "b7e07050-6358-42c6-be94-e9bf3189dd85",
   "metadata": {},
   "source": [
    "## Author\n",
    "Manas Mangesh Deshpande"
   ]
  },
  {
   "cell_type": "markdown",
   "id": "d82b8f6d-ea27-4f84-8a0d-a6ccecd57db6",
   "metadata": {},
   "source": [
    "In this notebook, Data Science Tools and Ecosystem are summarized."
   ]
  },
  {
   "cell_type": "markdown",
   "id": "b2ef5f15-17d5-4ef1-a2fe-8abe08a6a88f",
   "metadata": {},
   "source": [
    "**Objectives:**\n",
    "\n",
    "* List of Popular Data Science Languages\n",
    "* List of Popular Data Science Libraries\n",
    "* Data Science Tools\n",
    "* Examples of evaluating arithmetic expressions in Python"
   ]
  },
  {
   "cell_type": "markdown",
   "id": "bcac4c09-d1cc-4d53-baf8-dfbb538a877f",
   "metadata": {},
   "source": [
    "Some of the popular languages that Data Scientists use are:\r\n",
    "1. Python\r\n",
    "2. R\r\n",
    "3. Java\r\n",
    "4. Scala\r\n",
    "5. SQL"
   ]
  },
  {
   "cell_type": "markdown",
   "id": "5c1c0b11-f1eb-47bf-aa7a-dd99eb1f4f21",
   "metadata": {},
   "source": [
    "Some of the commonly used libraries used by data scientists include: \n",
    "1. Pandas (Python Library)\n",
    "2. MatPlotLib (Python Visualisation Library)\n",
    "3. GGPlot2 (R Visualization Library)\n",
    "4. DPylt (R Data Manipulation Library)"
   ]
  },
  {
   "cell_type": "markdown",
   "id": "1b632554-9a72-4c2e-ab28-ab29d6011ab5",
   "metadata": {},
   "source": [
    "**Data Science Tools**\n",
    "\n",
    "| **Sr. No.** | **Tool** | **Language** |\n",
    "|:--------:|:--------:|:--------:|\n",
    "| 1. | Jupyter Notebook | Supports multiple languages like R & Python |\n",
    "| 2. | R Studio | R Language |\n",
    "| 3. | Apache Hadoop | Java |\n",
    "| 4. | Apache Spark | SQL |\n"
   ]
  },
  {
   "cell_type": "markdown",
   "id": "cbe1bf5a-cb68-48a8-9e70-2b1c00b1530c",
   "metadata": {},
   "source": [
    "### Below are a few examples of evaluating arithmetic expressions in Python"
   ]
  },
  {
   "cell_type": "code",
   "execution_count": 3,
   "id": "d37c0743-8f6b-4c5f-848b-823e740b93a0",
   "metadata": {},
   "outputs": [
    {
     "data": {
      "text/plain": [
       "17"
      ]
     },
     "execution_count": 3,
     "metadata": {},
     "output_type": "execute_result"
    }
   ],
   "source": [
    "# This a simple arithmetic expression to mutiply then add integers\n",
    "\n",
    "()+5"
   ]
  },
  {
   "cell_type": "code",
   "execution_count": 5,
   "id": "976c984a-6530-4ff3-b7a2-0910304bf749",
   "metadata": {},
   "outputs": [
    {
     "data": {
      "text/plain": [
       "3.3333333333333335"
      ]
     },
     "execution_count": 5,
     "metadata": {},
     "output_type": "execute_result"
    }
   ],
   "source": [
    "# This will convert 200 minutes to hours by diving by 60\n",
    "\n",
    "200/60"
   ]
  }
 ],
 "metadata": {
  "kernelspec": {
   "display_name": "Python 3 (ipykernel)",
   "language": "python",
   "name": "python3"
  },
  "language_info": {
   "codemirror_mode": {
    "name": "ipython",
    "version": 3
   },
   "file_extension": ".py",
   "mimetype": "text/x-python",
   "name": "python",
   "nbconvert_exporter": "python",
   "pygments_lexer": "ipython3",
   "version": "3.12.2"
  }
 },
 "nbformat": 4,
 "nbformat_minor": 5
}
